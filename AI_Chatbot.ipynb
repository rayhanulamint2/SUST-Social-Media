{
 "cells": [
  {
   "cell_type": "markdown",
   "id": "1ea790e8",
   "metadata": {},
   "source": [
    "# Install Necessary Files"
   ]
  },
  {
   "cell_type": "code",
   "execution_count": null,
   "id": "d1c96249",
   "metadata": {},
   "outputs": [],
   "source": [
    "!pip install langchain_groq\n",
    "!pip install langchain_community\n",
    "!pip install chromadb\n",
    "!pip install fastapi\n",
    "!pip install nest_asyncio\n",
    "!pip install uvicorn\n",
    "!pip install pyngrok"
   ]
  },
  {
   "cell_type": "markdown",
   "id": "54b97f2b",
   "metadata": {},
   "source": []
  },
  {
   "cell_type": "markdown",
   "id": "a7a961e1",
   "metadata": {},
   "source": [
    "# Import Libraries"
   ]
  },
  {
   "cell_type": "code",
   "execution_count": null,
   "id": "30b6a18b",
   "metadata": {},
   "outputs": [],
   "source": [
    "from fastapi.middleware.cors import CORSMiddleware\n",
    "import nest_asyncio\n",
    "import uuid\n",
    "import pandas as pd\n",
    "import chromadb\n",
    "from fastapi import FastAPI, Request\n",
    "from fastapi.responses import HTMLResponse\n",
    "from pydantic import BaseModel\n",
    "from pyngrok import ngrok\n",
    "from langchain_groq import ChatGroq\n",
    "from langchain_community.document_loaders import WebBaseLoader\n",
    "from langchain_core.prompts import PromptTemplate"
   ]
  },
  {
   "cell_type": "markdown",
   "id": "8abe5093",
   "metadata": {},
   "source": [
    "# Set up Fast API"
   ]
  },
  {
   "cell_type": "code",
   "execution_count": null,
   "id": "25334791",
   "metadata": {},
   "outputs": [],
   "source": [
    "nest_asyncio.apply()\n",
    "\n",
    "app = FastAPI()\n",
    "app.add_middleware(\n",
    "    CORSMiddleware,\n",
    "    allow_origins=[\"http://localhost:5173\"],  # frontend origin\n",
    "    allow_credentials=True,\n",
    "    allow_methods=[\"*\"],\n",
    "    allow_headers=[\"*\"],\n",
    ")"
   ]
  },
  {
   "cell_type": "markdown",
   "id": "3bd62dd6",
   "metadata": {},
   "source": [
    "# Set up Groq with llama"
   ]
  },
  {
   "cell_type": "code",
   "execution_count": null,
   "id": "ea0cc1eb",
   "metadata": {},
   "outputs": [],
   "source": [
    "llm = ChatGroq(\n",
    "    temperature=0,\n",
    "    groq_api_key='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',  # Replace with your key\n",
    "    model_name=\"llama3-70b-8192\"\n",
    ")"
   ]
  },
  {
   "cell_type": "markdown",
   "id": "4fd9135d",
   "metadata": {},
   "source": [
    "# Read CSV File"
   ]
  },
  {
   "cell_type": "code",
   "execution_count": null,
   "id": "490e3ccb",
   "metadata": {},
   "outputs": [],
   "source": [
    "df = pd.read_csv('/kaggle/input/dataset01/350links.csv')"
   ]
  },
  {
   "cell_type": "markdown",
   "id": "631e6f86",
   "metadata": {},
   "source": [
    "# Set up ChromaDB"
   ]
  },
  {
   "cell_type": "code",
   "execution_count": null,
   "id": "21c3913c",
   "metadata": {},
   "outputs": [],
   "source": [
    "client = chromadb.PersistentClient('vectorstore')\n",
    "collection = client.get_or_create_collection(name=\"portfolio\")\n",
    "\n",
    "for _, row in df.iterrows():\n",
    "    collection.add(documents=row[\"Keywords\"],\n",
    "                       metadatas={\"links\": row[\"Links\"]},\n",
    "                       ids=[str(uuid.uuid4())])"
   ]
  },
  {
   "cell_type": "markdown",
   "id": "e4c521b7",
   "metadata": {},
   "source": [
    "# Implementation of Langchain Logic"
   ]
  },
  {
   "cell_type": "code",
   "execution_count": null,
   "id": "d9d338cb",
   "metadata": {},
   "outputs": [],
   "source": [
    "def get_answer(question: str) -> str:\n",
    "    try:\n",
    "        # Rephrase the question if needed\n",
    "        prompt_user_1 = PromptTemplate.from_template(\n",
    "            \"\"\"\n",
    "            ### Question:\n",
    "            {question}\n",
    "            ### INSTRUCTION:\n",
    "            Rephrase it if needed for your convinience otherwise not needed, no preamble.\n",
    "            ### QUESTION_ANSWER (NO PREAMBLE):\n",
    "            \"\"\"\n",
    "        )\n",
    "\n",
    "        # Create a chain to rephrase the question\n",
    "        chain_question = prompt_user_1 | llm\n",
    "        rephrased = chain_question.invoke({\"question\": question}).content\n",
    "\n",
    "        # Search for relevant links in the collection\n",
    "        links = collection.query(query_texts=[rephrased], n_results=1).get(\"metadatas\", [])\n",
    "        if not links or not links[0]:\n",
    "            return \"No relevant data found.\"\n",
    "\n",
    "        link = links[0][0]['links']\n",
    "        loader = WebBaseLoader(str(link))\n",
    "        raw_content = loader.load().pop().page_content\n",
    "        page_data = \" \".join(raw_content.split())\n",
    "\n",
    "        # Create a prompt to answer the question using the page data\n",
    "        prompt_user = PromptTemplate.from_template(\n",
    "            \"\"\"\n",
    "            ### Question:\n",
    "            {question}\n",
    "            ### INSTRUCTION:\n",
    "            Answer only using {info}. No preamble.\n",
    "            ### QUESTION_ANSWER (NO PREAMBLE):\n",
    "            \"\"\"\n",
    "        )\n",
    "\n",
    "        # Create a chain to answer the question\n",
    "        chain_answer = prompt_user | llm\n",
    "        res = chain_answer.invoke({\"question\": rephrased, \"info\": page_data.strip()})\n",
    "        return res.content.strip()\n",
    "\n",
    "    except Exception as e:\n",
    "        return f\"Error: {str(e)}\""
   ]
  },
  {
   "cell_type": "markdown",
   "id": "c01b9d0c",
   "metadata": {},
   "source": [
    "# Define FastAPI Endpoints"
   ]
  },
  {
   "cell_type": "code",
   "execution_count": null,
   "id": "3fefdea8",
   "metadata": {},
   "outputs": [],
   "source": [
    "class Question(BaseModel):\n",
    "    question: str\n",
    "\n",
    "\n",
    "# Ask Routing\n",
    "@app.post(\"/ask\")\n",
    "async def ask_question(q: Question):\n",
    "    answer = get_answer(q.question)\n",
    "    return {\"answer\": answer}\n",
    "\n",
    "\n",
    "# Make HTML Page to Render the Question and Answer\n",
    "@app.get(\"/\", response_class=HTMLResponse)\n",
    "async def serve_html():\n",
    "    return HTMLResponse(content=\"\"\"\n",
    "    <html>\n",
    "    <body>\n",
    "        <h2>Ask a Question</h2>\n",
    "        <input type=\"text\" id=\"q\" size=\"50\">\n",
    "        <button onclick=\"ask()\">Submit</button>\n",
    "        <p><b>Answer:</b> <span id=\"a\"></span></p>\n",
    "        <script>\n",
    "        async function ask() {\n",
    "            let q = document.getElementById(\"q\").value;\n",
    "            let res = await fetch(\"/ask\", {\n",
    "                method: \"POST\",\n",
    "                headers: {\n",
    "                    \"Content-Type\": \"application/json\",\n",
    "                    \"ngrok-skip-browser-warning\": \"true\"\n",
    "                },\n",
    "                body: JSON.stringify({ question: q })\n",
    "            });\n",
    "            let json = await res.json();\n",
    "            document.getElementById(\"a\").innerText = json.answer;\n",
    "        }\n",
    "        </script>\n",
    "    </body>\n",
    "    </html>\n",
    "    \"\"\")"
   ]
  },
  {
   "cell_type": "markdown",
   "id": "6e889368",
   "metadata": {},
   "source": [
    "# Start FastAPI with Public URL"
   ]
  },
  {
   "cell_type": "code",
   "execution_count": null,
   "id": "68c3d791",
   "metadata": {},
   "outputs": [],
   "source": [
    "# Start FastAPI with public URL\n",
    "from uvicorn import Config, Server\n",
    "!ngrok config add-authtoken '2xtQ4VTsnytY20U2JGk9ck2dqzO_3dTrMvdoZUu5jUJVJucJn'\n",
    "public_url = ngrok.connect(8000)\n",
    "print(\"Your chatbot is live at:\", public_url)\n",
    "\n",
    "\n",
    "# Start FastAPI Server\n",
    "config = Config(app=app, port=8000, log_level=\"info\")\n",
    "server = Server(config=config)\n",
    "await server.serve()"
   ]
  }
 ],
 "metadata": {
  "language_info": {
   "name": "python"
  }
 },
 "nbformat": 4,
 "nbformat_minor": 5
}
