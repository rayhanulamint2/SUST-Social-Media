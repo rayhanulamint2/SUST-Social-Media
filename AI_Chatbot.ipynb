{
 "cells": [
  {
   "cell_type": "markdown",
   "id": "1ea790e8",
   "metadata": {},
   "source": [
    "# Install Necessary Files"
   ]
  },
  {
   "cell_type": "code",
   "execution_count": null,
   "id": "d1c96249",
   "metadata": {},
   "outputs": [],
   "source": [
    "!pip install langchain_groq\n",
    "!pip install langchain_community\n",
    "!pip install chromadb\n",
    "!pip install fastapi\n",
    "!pip install nest_asyncio\n",
    "!pip install uvicorn\n",
    "!pip install pyngrok"
   ]
  },
  {
   "cell_type": "markdown",
   "id": "54b97f2b",
   "metadata": {},
   "source": []
  },
  {
   "cell_type": "markdown",
   "id": "a7a961e1",
   "metadata": {},
   "source": [
    "# Import Libraries"
   ]
  },
  {
   "cell_type": "markdown",
   "id": "32a589e0",
   "metadata": {},
   "source": [
    "from fastapi.middleware.cors import CORSMiddleware\n",
    "import nest_asyncio\n",
    "import uuid\n",
    "import pandas as pd\n",
    "import chromadb\n",
    "from fastapi import FastAPI, Request\n",
    "from fastapi.responses import HTMLResponse\n",
    "from pydantic import BaseModel\n",
    "from pyngrok import ngrok\n",
    "from langchain_groq import ChatGroq\n",
    "from langchain_community.document_loaders import WebBaseLoader\n",
    "from langchain_core.prompts import PromptTemplate"
   ]
  },
  {
   "cell_type": "markdown",
   "id": "8abe5093",
   "metadata": {},
   "source": [
    "# Set up Fast API"
   ]
  },
  {
   "cell_type": "markdown",
   "id": "f77cb2b4",
   "metadata": {},
   "source": [
    "nest_asyncio.apply()\n",
    "\n",
    "app = FastAPI()\n",
    "app.add_middleware(\n",
    "    CORSMiddleware,\n",
    "    allow_origins=[\"http://localhost:5173\"],  # frontend origin\n",
    "    allow_credentials=True,\n",
    "    allow_methods=[\"*\"],\n",
    "    allow_headers=[\"*\"],\n",
    ")"
   ]
  }
 ],
 "metadata": {
  "language_info": {
   "name": "python"
  }
 },
 "nbformat": 4,
 "nbformat_minor": 5
}
