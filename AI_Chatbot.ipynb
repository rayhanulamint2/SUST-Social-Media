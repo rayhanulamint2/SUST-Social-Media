{
 "cells": [
  {
   "cell_type": "markdown",
   "id": "1ea790e8",
   "metadata": {},
   "source": [
    "# Install Necessary Files"
   ]
  },
  {
   "cell_type": "code",
   "execution_count": null,
   "id": "d1c96249",
   "metadata": {},
   "outputs": [],
   "source": [
    "!pip install langchain_groq\n",
    "!pip install langchain_community\n",
    "!pip install chromadb\n",
    "!pip install fastapi\n",
    "!pip install nest_asyncio\n",
    "!pip install uvicorn\n",
    "!pip install pyngrok"
   ]
  },
  {
   "cell_type": "markdown",
   "id": "54b97f2b",
   "metadata": {},
   "source": []
  }
 ],
 "metadata": {
  "language_info": {
   "name": "python"
  }
 },
 "nbformat": 4,
 "nbformat_minor": 5
}
